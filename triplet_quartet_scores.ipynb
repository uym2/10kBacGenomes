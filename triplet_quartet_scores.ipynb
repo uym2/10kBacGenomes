{
 "cells": [
  {
   "cell_type": "markdown",
   "metadata": {},
   "source": [
    "# Calculating triplet and quartet scores"
   ]
  },
  {
   "cell_type": "markdown",
   "metadata": {},
   "source": [
    "Re-implemented based on Uyen Mai's [code](https://github.com/uym2/10kBacGenomes/blob/master/pergroup_stats.py)."
   ]
  },
  {
   "cell_type": "code",
   "execution_count": 51,
   "metadata": {
    "collapsed": true
   },
   "outputs": [],
   "source": [
    "import pandas as pd\n",
    "from skbio import TreeNode"
   ]
  },
  {
   "cell_type": "code",
   "execution_count": 110,
   "metadata": {
    "collapsed": true
   },
   "outputs": [],
   "source": [
    "tree = TreeNode.read('tree.nwk')"
   ]
  },
  {
   "cell_type": "code",
   "execution_count": 111,
   "metadata": {
    "collapsed": true
   },
   "outputs": [],
   "source": [
    "df = pd.read_table('rank_names.tsv', index_col=0)"
   ]
  },
  {
   "cell_type": "code",
   "execution_count": 112,
   "metadata": {
    "collapsed": true
   },
   "outputs": [],
   "source": [
    "df = df.loc[[x.name for x in tree.tips()]]"
   ]
  },
  {
   "cell_type": "code",
   "execution_count": 113,
   "metadata": {
    "collapsed": false
   },
   "outputs": [
    {
     "name": "stdout",
     "output_type": "stream",
     "text": [
      "CPU times: user 1min 30s, sys: 451 ms, total: 1min 31s\n",
      "Wall time: 1min 31s\n"
     ]
    }
   ],
   "source": [
    "%%time\n",
    "res = None\n",
    "for rank in df.columns:\n",
    "    _df = pd.DataFrame(df[rank].dropna().value_counts().reset_index())\n",
    "    _df.columns = ['taxon', 'count']\n",
    "    _df = _df.query('1 < count < %d' % df.shape[0])\n",
    "    _df['rank'] = rank\n",
    "    _df['triplet'], _df['quartet'] = zip(*_df.apply(lambda row: scores(\n",
    "        set(df.index[df[rank] == row['taxon']].tolist()), tree), axis=1))\n",
    "    res = res.append(_df) if res is not None else _df"
   ]
  },
  {
   "cell_type": "code",
   "execution_count": 114,
   "metadata": {
    "collapsed": false
   },
   "outputs": [
    {
     "data": {
      "text/html": [
       "<div>\n",
       "<style scoped>\n",
       "    .dataframe tbody tr th:only-of-type {\n",
       "        vertical-align: middle;\n",
       "    }\n",
       "\n",
       "    .dataframe tbody tr th {\n",
       "        vertical-align: top;\n",
       "    }\n",
       "\n",
       "    .dataframe thead th {\n",
       "        text-align: right;\n",
       "    }\n",
       "</style>\n",
       "<table border=\"1\" class=\"dataframe\">\n",
       "  <thead>\n",
       "    <tr style=\"text-align: right;\">\n",
       "      <th></th>\n",
       "      <th>taxon</th>\n",
       "      <th>count</th>\n",
       "      <th>rank</th>\n",
       "      <th>triplet</th>\n",
       "      <th>quartet</th>\n",
       "    </tr>\n",
       "  </thead>\n",
       "  <tbody>\n",
       "    <tr>\n",
       "      <th>0</th>\n",
       "      <td>Bacteria</td>\n",
       "      <td>9906</td>\n",
       "      <td>kingdom</td>\n",
       "      <td>1.000000</td>\n",
       "      <td>1.000000</td>\n",
       "    </tr>\n",
       "    <tr>\n",
       "      <th>1</th>\n",
       "      <td>Archaea</td>\n",
       "      <td>669</td>\n",
       "      <td>kingdom</td>\n",
       "      <td>1.000000</td>\n",
       "      <td>1.000000</td>\n",
       "    </tr>\n",
       "    <tr>\n",
       "      <th>0</th>\n",
       "      <td>Proteobacteria</td>\n",
       "      <td>2975</td>\n",
       "      <td>phylum</td>\n",
       "      <td>0.993300</td>\n",
       "      <td>0.989164</td>\n",
       "    </tr>\n",
       "    <tr>\n",
       "      <th>1</th>\n",
       "      <td>Firmicutes</td>\n",
       "      <td>1948</td>\n",
       "      <td>phylum</td>\n",
       "      <td>0.993025</td>\n",
       "      <td>0.986553</td>\n",
       "    </tr>\n",
       "    <tr>\n",
       "      <th>2</th>\n",
       "      <td>Actinobacteria</td>\n",
       "      <td>1097</td>\n",
       "      <td>phylum</td>\n",
       "      <td>0.990621</td>\n",
       "      <td>0.991678</td>\n",
       "    </tr>\n",
       "  </tbody>\n",
       "</table>\n",
       "</div>"
      ],
      "text/plain": [
       "            taxon  count     rank   triplet   quartet\n",
       "0        Bacteria   9906  kingdom  1.000000  1.000000\n",
       "1         Archaea    669  kingdom  1.000000  1.000000\n",
       "0  Proteobacteria   2975   phylum  0.993300  0.989164\n",
       "1      Firmicutes   1948   phylum  0.993025  0.986553\n",
       "2  Actinobacteria   1097   phylum  0.990621  0.991678"
      ]
     },
     "execution_count": 114,
     "metadata": {},
     "output_type": "execute_result"
    }
   ],
   "source": [
    "res.head()"
   ]
  },
  {
   "cell_type": "code",
   "execution_count": 115,
   "metadata": {
    "collapsed": true
   },
   "outputs": [],
   "source": [
    "res.to_csv('test.out.3', sep='\\t')"
   ]
  },
  {
   "cell_type": "code",
   "execution_count": 109,
   "metadata": {
    "collapsed": true
   },
   "outputs": [],
   "source": [
    "def scores(taxa, tree):\n",
    "    \"\"\"Calculate triplet and quartet scores of a group of taxa in a tree.\n",
    "    \n",
    "    Parameters\n",
    "    ----------\n",
    "    taxa : set of str\n",
    "        group of taxa (tip names)\n",
    "    tree : skbio.TreeNode\n",
    "        reference tree\n",
    "\n",
    "    Returns\n",
    "    -------\n",
    "    tuple of (float, float)\n",
    "        triplet and quartet scores\n",
    "    \"\"\"\n",
    "    \n",
    "    # n: total number of taxa in a clade\n",
    "    n = tree.count(tips=True)\n",
    "\n",
    "    # p: number of taxa in a clade that belong to input group\n",
    "    p = len(taxa)\n",
    "    \n",
    "    # np: number of taxa in a clade that do NOT belong to input group\n",
    "    np = n - p\n",
    "    \n",
    "    # limit search to lowest common ancestor to save computation\n",
    "    lca = tree.lca(taxa).copy()\n",
    "    \n",
    "    # total numbers of triplets and quartets\n",
    "    ntriplets = np * p * (p - 1) / 2\n",
    "    nquartets = np * (np - 1) * p * (p - 1) / 4\n",
    "\n",
    "    # numbers of triplets and quartets that fit the input group\n",
    "    triplets = 0\n",
    "    quartets = 0\n",
    "\n",
    "    # iterate the tree in post order (from tip to stem)\n",
    "    for node in lca.postorder():\n",
    "        if node.is_tip():\n",
    "            # add a new metadatum 'c' to the node, which is the number of\n",
    "            # descending taxa that belong to input group\n",
    "            node.c = 1 if node.name in taxa else 0\n",
    "        else:\n",
    "            node.c = 0\n",
    "            counts = []\n",
    "            for child in node.children:\n",
    "                node.c += child.c\n",
    "                counts.append(child.c)\n",
    "            NP = (n - node.count(tips=True)) - (p - node.c)\n",
    "            P = 0\n",
    "            for i in range(len(counts) - 1):\n",
    "                for j in range(i + 1, len(counts)):\n",
    "                    P += counts[i] * counts[j]\n",
    "            triplets += NP * P\n",
    "            quartets += P * NP * (NP - 1) / 2\n",
    "\n",
    "    # iterate the tree again\n",
    "    for node in lca.postorder(include_self=False):\n",
    "        if not node.is_tip():\n",
    "            NP = node.count(tips=True) - node.c\n",
    "            P = 0\n",
    "            counts = [sibling.c for sibling in node.siblings()]\n",
    "            counts.append(p - node.parent.c)\n",
    "            for i in range(len(counts) - 1):\n",
    "                for j in range(i + 1, len(counts)):\n",
    "                    P += counts[i] * counts[j]\n",
    "            quartets += P * NP * (NP - 1) / 2\n",
    "\n",
    "    return triplets / ntriplets, quartets / nquartets"
   ]
  },
  {
   "cell_type": "code",
   "execution_count": null,
   "metadata": {
    "collapsed": true
   },
   "outputs": [],
   "source": []
  }
 ],
 "metadata": {
  "anaconda-cloud": {},
  "hide_input": false,
  "kernelspec": {
   "display_name": "Python 3",
   "language": "python",
   "name": "python3"
  },
  "language_info": {
   "codemirror_mode": {
    "name": "ipython",
    "version": 3
   },
   "file_extension": ".py",
   "mimetype": "text/x-python",
   "name": "python",
   "nbconvert_exporter": "python",
   "pygments_lexer": "ipython3",
   "version": "3.6.4"
  }
 },
 "nbformat": 4,
 "nbformat_minor": 2
}
